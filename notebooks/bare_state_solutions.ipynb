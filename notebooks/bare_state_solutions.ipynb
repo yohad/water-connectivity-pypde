{
 "cells": [
  {
   "cell_type": "code",
   "execution_count": 63,
   "metadata": {},
   "outputs": [],
   "source": [
    "import sympy as sp"
   ]
  },
  {
   "cell_type": "code",
   "execution_count": 64,
   "metadata": {},
   "outputs": [],
   "source": [
    "x, y = sp.symbols('x y')\n",
    "w0 = sp.Function('w_0')(x, y)\n",
    "h0 = sp.Function('h_0')(x, y)\n",
    "\n",
    "beta, xi, omega, kx, ky = sp.symbols('\\\\beta \\\\xi \\\\omega k_x k_y')\n",
    "\n",
    "w0, h0 = sp.symbols('w_0, h_0')\n",
    "\n",
    "eb = beta * sp.exp(sp.I*(kx*x + ky*y))\n",
    "ew = omega * sp.exp(sp.I*(kx*x + ky*y))\n",
    "eh = xi * sp.exp(sp.I*(kx*x + ky*y))\n",
    "\n",
    "b = eb\n",
    "w = w0 + ew\n",
    "h = h0 + eh\n",
    "\n",
    "m = sp.symbols('m')\n",
    "zeta = m * y\n",
    "\n",
    "a, v, dw, p, dh, eta, db = sp.symbols('\\\\alpha \\\\nu \\\\delta_w p \\\\delta_h eta \\\\delta_b')\n",
    "\n",
    "def laplace(f):\n",
    "    return sp.diff(f, x, 2) + sp.diff(f, y, 2)\n",
    "\n",
    "def grad(f):\n",
    "    return sp.Matrix([sp.diff(f, x), sp.diff(f, y)])\n",
    "\n",
    "def div(f):\n",
    "    return sp.diff(f[0], x) + sp.diff(f[1], y)\n",
    "\n",
    "def inner_product(f, g):\n",
    "    return f[0]*g[0] + f[1]*g[1]\n",
    "\n",
    "S = sp.Pow(1+eta*b, 2)\n",
    "eq_b = v * w * S*b*(1-b)-b+db*laplace(b)\n",
    "\n",
    "eq_w = a*h-v*w +dw*laplace(w)\n",
    "\n",
    "J = - 2*dh * h * grad(h+zeta)\n",
    "eq_h = p-a*h -div(J)\n",
    "\n",
    "\n"
   ]
  },
  {
   "cell_type": "code",
   "execution_count": 65,
   "metadata": {},
   "outputs": [
    {
     "data": {
      "text/latex": [
       "$\\displaystyle \\beta^{4} \\left(- \\nu \\omega \\eta^{2} e^{5 i k_{x} x} e^{5 i k_{y} y} - \\nu \\eta^{2} w_{0} e^{4 i k_{x} x} e^{4 i k_{y} y}\\right) + \\beta^{3} \\left(\\nu \\eta^{2} w_{0} e^{3 i k_{x} x} e^{3 i k_{y} y} - 2 \\nu \\eta w_{0} e^{3 i k_{x} x} e^{3 i k_{y} y} + \\omega \\left(\\nu \\eta^{2} e^{4 i k_{x} x} e^{4 i k_{y} y} - 2 \\nu \\eta e^{4 i k_{x} x} e^{4 i k_{y} y}\\right)\\right) + \\beta^{2} \\cdot \\left(2 \\nu \\eta w_{0} e^{2 i k_{x} x} e^{2 i k_{y} y} - \\nu w_{0} e^{2 i k_{x} x} e^{2 i k_{y} y} + \\omega \\left(2 \\nu \\eta e^{3 i k_{x} x} e^{3 i k_{y} y} - \\nu e^{3 i k_{x} x} e^{3 i k_{y} y}\\right)\\right) + \\beta \\left(- \\delta_{b} k_{x}^{2} e^{i k_{x} x} e^{i k_{y} y} - \\delta_{b} k_{y}^{2} e^{i k_{x} x} e^{i k_{y} y} + \\nu \\omega e^{2 i k_{x} x} e^{2 i k_{y} y} + \\nu w_{0} e^{i k_{x} x} e^{i k_{y} y} - e^{i k_{x} x} e^{i k_{y} y}\\right)$"
      ],
      "text/plain": [
       "\\beta**4*(-\\nu*\\omega*eta**2*exp(5*I*k_x*x)*exp(5*I*k_y*y) - \\nu*eta**2*w_0*exp(4*I*k_x*x)*exp(4*I*k_y*y)) + \\beta**3*(\\nu*eta**2*w_0*exp(3*I*k_x*x)*exp(3*I*k_y*y) - 2*\\nu*eta*w_0*exp(3*I*k_x*x)*exp(3*I*k_y*y) + \\omega*(\\nu*eta**2*exp(4*I*k_x*x)*exp(4*I*k_y*y) - 2*\\nu*eta*exp(4*I*k_x*x)*exp(4*I*k_y*y))) + \\beta**2*(2*\\nu*eta*w_0*exp(2*I*k_x*x)*exp(2*I*k_y*y) - \\nu*w_0*exp(2*I*k_x*x)*exp(2*I*k_y*y) + \\omega*(2*\\nu*eta*exp(3*I*k_x*x)*exp(3*I*k_y*y) - \\nu*exp(3*I*k_x*x)*exp(3*I*k_y*y))) + \\beta*(-\\delta_b*k_x**2*exp(I*k_x*x)*exp(I*k_y*y) - \\delta_b*k_y**2*exp(I*k_x*x)*exp(I*k_y*y) + \\nu*\\omega*exp(2*I*k_x*x)*exp(2*I*k_y*y) + \\nu*w_0*exp(I*k_x*x)*exp(I*k_y*y) - exp(I*k_x*x)*exp(I*k_y*y))"
      ]
     },
     "execution_count": 65,
     "metadata": {},
     "output_type": "execute_result"
    }
   ],
   "source": [
    "eq_b.expand().collect(beta).collect(omega)"
   ]
  },
  {
   "cell_type": "code",
   "execution_count": 66,
   "metadata": {},
   "outputs": [
    {
     "data": {
      "text/latex": [
       "$\\displaystyle \\alpha \\xi e^{i k_{x} x} e^{i k_{y} y} + \\alpha h_{0} - \\nu w_{0} + \\omega \\left(- \\delta_{w} k_{x}^{2} e^{i k_{x} x} e^{i k_{y} y} - \\delta_{w} k_{y}^{2} e^{i k_{x} x} e^{i k_{y} y} - \\nu e^{i k_{x} x} e^{i k_{y} y}\\right)$"
      ],
      "text/plain": [
       "\\alpha*\\xi*exp(I*k_x*x)*exp(I*k_y*y) + \\alpha*h_0 - \\nu*w_0 + \\omega*(-\\delta_w*k_x**2*exp(I*k_x*x)*exp(I*k_y*y) - \\delta_w*k_y**2*exp(I*k_x*x)*exp(I*k_y*y) - \\nu*exp(I*k_x*x)*exp(I*k_y*y))"
      ]
     },
     "execution_count": 66,
     "metadata": {},
     "output_type": "execute_result"
    }
   ],
   "source": [
    "eq_w.expand().collect(beta).collect(omega).collect(xi)"
   ]
  },
  {
   "cell_type": "code",
   "execution_count": 67,
   "metadata": {},
   "outputs": [
    {
     "data": {
      "text/latex": [
       "$\\displaystyle - \\alpha h_{0} + \\xi^{2} \\left(- 4 \\delta_{h} k_{x}^{2} e^{2 i k_{x} x} e^{2 i k_{y} y} - 4 \\delta_{h} k_{y}^{2} e^{2 i k_{x} x} e^{2 i k_{y} y}\\right) + \\xi \\left(- \\alpha e^{i k_{x} x} e^{i k_{y} y} - 2 \\delta_{h} h_{0} k_{x}^{2} e^{i k_{x} x} e^{i k_{y} y} - 2 \\delta_{h} h_{0} k_{y}^{2} e^{i k_{x} x} e^{i k_{y} y} + 2 i \\delta_{h} k_{y} m e^{i k_{x} x} e^{i k_{y} y}\\right) + p$"
      ],
      "text/plain": [
       "-\\alpha*h_0 + \\xi**2*(-4*\\delta_h*k_x**2*exp(2*I*k_x*x)*exp(2*I*k_y*y) - 4*\\delta_h*k_y**2*exp(2*I*k_x*x)*exp(2*I*k_y*y)) + \\xi*(-\\alpha*exp(I*k_x*x)*exp(I*k_y*y) - 2*\\delta_h*h_0*k_x**2*exp(I*k_x*x)*exp(I*k_y*y) - 2*\\delta_h*h_0*k_y**2*exp(I*k_x*x)*exp(I*k_y*y) + 2*I*\\delta_h*k_y*m*exp(I*k_x*x)*exp(I*k_y*y)) + p"
      ]
     },
     "execution_count": 67,
     "metadata": {},
     "output_type": "execute_result"
    }
   ],
   "source": [
    "eq_h.expand().collect(beta).collect(omega).collect(xi)"
   ]
  },
  {
   "cell_type": "code",
   "execution_count": 68,
   "metadata": {},
   "outputs": [
    {
     "data": {
      "text/latex": [
       "$\\displaystyle \\left[\\begin{matrix}0\\\\- 2 \\delta_{h} h_{0} m\\end{matrix}\\right]$"
      ],
      "text/plain": [
       "Matrix([\n",
       "[                0],\n",
       "[-2*\\delta_h*h_0*m]])"
      ]
     },
     "execution_count": 68,
     "metadata": {},
     "output_type": "execute_result"
    }
   ],
   "source": [
    "h = h0\n",
    "J = - 2*dh * h * grad(h+zeta)\n",
    "J"
   ]
  },
  {
   "cell_type": "code",
   "execution_count": 69,
   "metadata": {},
   "outputs": [
    {
     "data": {
      "text/latex": [
       "$\\displaystyle 0$"
      ],
      "text/plain": [
       "0"
      ]
     },
     "execution_count": 69,
     "metadata": {},
     "output_type": "execute_result"
    }
   ],
   "source": [
    "div(J).expand()"
   ]
  }
 ],
 "metadata": {
  "kernelspec": {
   "display_name": "pypde",
   "language": "python",
   "name": "python3"
  },
  "language_info": {
   "codemirror_mode": {
    "name": "ipython",
    "version": 3
   },
   "file_extension": ".py",
   "mimetype": "text/x-python",
   "name": "python",
   "nbconvert_exporter": "python",
   "pygments_lexer": "ipython3",
   "version": "3.9.13"
  },
  "orig_nbformat": 4,
  "vscode": {
   "interpreter": {
    "hash": "847c141aca37035552fe008f78d91dd0e5dfebb8988bbd382a5233edc6c33064"
   }
  }
 },
 "nbformat": 4,
 "nbformat_minor": 2
}
