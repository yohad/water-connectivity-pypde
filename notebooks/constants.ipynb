{
 "cells": [
  {
   "cell_type": "code",
   "execution_count": 4,
   "metadata": {},
   "outputs": [],
   "source": [
    "from scimath.units.length import meter, millimeter\n",
    "from scimath.units.time import year\n",
    "from scimath.units.mass import kilogram, gram\n",
    "\n",
    "import numpy as np"
   ]
  },
  {
   "cell_type": "code",
   "execution_count": 8,
   "metadata": {},
   "outputs": [],
   "source": [
    "D_H = 0.05 * (meter**2 / year) * (kilogram / meter**2)**-1\n",
    "N = 4 * year**-1\n",
    "M = 1.2 * year**-1\n",
    "Lambda = 0.032 * (kilogram / meter**2)**-1 * year**-1\n",
    "S0 = 0.125 * meter\n",
    "\n",
    "H = kilogram / millimeter**2"
   ]
  },
  {
   "cell_type": "code",
   "execution_count": 9,
   "metadata": {},
   "outputs": [
    {
     "data": {
      "text/plain": [
       "333.33333333333337"
      ]
     },
     "execution_count": 9,
     "metadata": {},
     "output_type": "execute_result"
    }
   ],
   "source": [
    "delta_h = D_H * N / (M * Lambda * np.power(S0, 2))\n",
    "delta_h"
   ]
  },
  {
   "cell_type": "code",
   "execution_count": 10,
   "metadata": {},
   "outputs": [
    {
     "data": {
      "text/plain": [
       "8000.0"
      ]
     },
     "execution_count": 10,
     "metadata": {},
     "output_type": "execute_result"
    }
   ],
   "source": [
    "h = Lambda * H / N\n",
    "h"
   ]
  }
 ],
 "metadata": {
  "kernelspec": {
   "display_name": "Python 3.9.13 (conda)",
   "language": "python",
   "name": "python3"
  },
  "language_info": {
   "codemirror_mode": {
    "name": "ipython",
    "version": 3
   },
   "file_extension": ".py",
   "mimetype": "text/x-python",
   "name": "python",
   "nbconvert_exporter": "python",
   "pygments_lexer": "ipython3",
   "version": "3.10.9"
  },
  "orig_nbformat": 4,
  "vscode": {
   "interpreter": {
    "hash": "464b12e50559abcba55530b10b46509e702afaeaa39ffb63088478136885485b"
   }
  }
 },
 "nbformat": 4,
 "nbformat_minor": 2
}
