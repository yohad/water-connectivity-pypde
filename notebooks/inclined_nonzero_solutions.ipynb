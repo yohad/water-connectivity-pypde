{
 "cells": [
  {
   "cell_type": "code",
   "execution_count": 3,
   "metadata": {},
   "outputs": [],
   "source": [
    "import numpy as np\n",
    "import matplotlib.pyplot as plt"
   ]
  },
  {
   "cell_type": "code",
   "execution_count": 4,
   "metadata": {},
   "outputs": [],
   "source": [
    "nu = 10/3\n",
    "gamma = 50/3\n",
    "eta = 3.5\n",
    "a = 100 / 3\n",
    "f = 0.1\n",
    "\n",
    "def f(state, p):\n",
    "    b, w = state\n",
    "\n",
    "    L2 = np.power(1+eta*b, 2)\n",
    "    Gb = nu*w*L2\n",
    "    Gw = gamma*b*L2\n",
    "    h = p / (a * f)\n",
    "\n",
    "    r0 = Gb*b*(1-b) - b \n",
    "    r1 = p - nu*w - Gw*w\n",
    "\n",
    "    return np.array([r0, r1])"
   ]
  },
  {
   "cell_type": "code",
   "execution_count": 2,
   "metadata": {},
   "outputs": [],
   "source": [
    "ps = np.linspace(0, 2)\n",
    "\n"
   ]
  }
 ],
 "metadata": {
  "kernelspec": {
   "display_name": "pypde",
   "language": "python",
   "name": "python3"
  },
  "language_info": {
   "codemirror_mode": {
    "name": "ipython",
    "version": 3
   },
   "file_extension": ".py",
   "mimetype": "text/x-python",
   "name": "python",
   "nbconvert_exporter": "python",
   "pygments_lexer": "ipython3",
   "version": "3.10.8 | packaged by conda-forge | (main, Nov 22 2022, 08:16:33) [MSC v.1929 64 bit (AMD64)]"
  },
  "orig_nbformat": 4,
  "vscode": {
   "interpreter": {
    "hash": "847c141aca37035552fe008f78d91dd0e5dfebb8988bbd382a5233edc6c33064"
   }
  }
 },
 "nbformat": 4,
 "nbformat_minor": 2
}
